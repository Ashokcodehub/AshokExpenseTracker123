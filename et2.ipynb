{
 "cells": [
  {
   "cell_type": "code",
   "execution_count": 1,
   "metadata": {},
   "outputs": [],
   "source": [
    "import pandas as pd\n",
    "import mysql.connector\n",
    "from faker import Faker\n",
    "import random"
   ]
  },
  {
   "cell_type": "code",
   "execution_count": 2,
   "metadata": {},
   "outputs": [],
   "source": [
    "# Initialize Faker\n",
    "fake = Faker()"
   ]
  },
  {
   "cell_type": "code",
   "execution_count": 3,
   "metadata": {},
   "outputs": [],
   "source": [
    "# Expense categories and payment modes\n",
    "categories = [\"Groceries\", \"Travel\", \"Transportation\", \"Entertainment\", \"Gifts\", \"Income Tax\", \"Gas Bill\", \"Subscriptions\"]\n",
    "payment_modes = [\"Cash\", \"Credit Card\", \"Debit Card\", \"UPI\"]"
   ]
  },
  {
   "cell_type": "code",
   "execution_count": 4,
   "metadata": {},
   "outputs": [],
   "source": [
    "# Category-specific descriptions\n",
    "description_map = {\n",
    "    \"Groceries\": \"Purchased groceries and household items.\",\n",
    "    \"Travel\": \"Expense for travel tickets and accommodation.\",\n",
    "    \"Transportation\": \"Daily commute and fuel expenses.\",\n",
    "    \"Entertainment\": \"Movies, concerts, and recreational activities.\",\n",
    "    \"Gifts\": \"Purchased gifts for friends and family.\",\n",
    "    \"Income Tax\": \"Annual income tax payment.\",\n",
    "    \"Gas Bill\": \"Monthly gas bill payment.\",\n",
    "    \"Subscriptions\": \"Online streaming and magazine subscriptions.\"\n",
    "}"
   ]
  },
  {
   "cell_type": "code",
   "execution_count": 5,
   "metadata": {},
   "outputs": [],
   "source": [
    "# Function to generate expenses\n",
    "def generate_expenses():\n",
    "    data = []\n",
    "    for month in range(1, 13):  # January to December\n",
    "        count = 0\n",
    "        gas_bill_paid = False  # Ensure Gas Bill is paid only once per month\n",
    "        while count < 150:  # 150 records per month\n",
    "            date = fake.date_between_dates(date_start=pd.Timestamp(f\"2024-{month:02d}-01\"), \n",
    "                                           date_end=pd.Timestamp(f\"2024-{month:02d}-28\")).strftime(\"%Y-%m-%d\")\n",
    "            category = random.choice(categories)\n",
    "            \n",
    "            # Ensure Income Tax is only in March\n",
    "            if category == \"Income Tax\" and month != 3:\n",
    "                continue\n",
    "            \n",
    "            # Ensure Gas Bill is only paid once per month\n",
    "            if category == \"Gas Bill\":\n",
    "                if gas_bill_paid:\n",
    "                    continue\n",
    "                gas_bill_paid = True\n",
    "            \n",
    "            payment_mode = random.choice(payment_modes)\n",
    "            amount_paid = round(random.uniform(100, 5000), 2)\n",
    "            cashback = round(random.uniform(1, 20), 2) if payment_mode == \"UPI\" else 0\n",
    "            description = description_map[category]\n",
    "            \n",
    "            data.append([date, category, payment_mode, description, amount_paid, cashback])\n",
    "            count += 1\n",
    "    \n",
    "    return pd.DataFrame(data, columns=[\"Date\", \"Category\", \"Payment Mode\", \"Description\", \"Amount Paid\", \"Cashback\"])\n"
   ]
  },
  {
   "cell_type": "code",
   "execution_count": 6,
   "metadata": {},
   "outputs": [],
   "source": [
    "# Generate DataFrame\n",
    "df = generate_expenses()"
   ]
  },
  {
   "cell_type": "code",
   "execution_count": 7,
   "metadata": {},
   "outputs": [
    {
     "name": "stdout",
     "output_type": "stream",
     "text": [
      "CSV file created successfully.\n"
     ]
    }
   ],
   "source": [
    "# Save to CSV\n",
    "df.to_csv(\"monthly_expenses_2024.csv\", index=False)\n",
    "print(\"CSV file created successfully.\")"
   ]
  },
  {
   "cell_type": "code",
   "execution_count": 8,
   "metadata": {},
   "outputs": [],
   "source": [
    "# MySQL connection details\n",
    "mysql_config = {\n",
    "    \"host\": \"localhost\",\n",
    "    \"user\": \"root\",\n",
    "    \"password\": \"Ashok@mysql123\",\n",
    "    \"database\": \"expense_db\"\n",
    "}"
   ]
  },
  {
   "cell_type": "code",
   "execution_count": 9,
   "metadata": {},
   "outputs": [],
   "source": [
    "# Connect to MySQL and create database\n",
    "conn = mysql.connector.connect(host=mysql_config[\"host\"], user=mysql_config[\"user\"], password=mysql_config[\"password\"])\n",
    "cursor = conn.cursor()\n",
    "cursor.execute(\"CREATE DATABASE IF NOT EXISTS expense_db\")\n",
    "cursor.close()\n",
    "conn.close()"
   ]
  },
  {
   "cell_type": "code",
   "execution_count": 10,
   "metadata": {},
   "outputs": [],
   "source": [
    "# Connect to expense_db\n",
    "conn = mysql.connector.connect(**mysql_config)\n",
    "cursor = conn.cursor()\n"
   ]
  },
  {
   "cell_type": "code",
   "execution_count": 11,
   "metadata": {},
   "outputs": [],
   "source": [
    "# Create table\n",
    "cursor.execute(\"\"\"\n",
    "    CREATE TABLE IF NOT EXISTS expenses (\n",
    "        id INT AUTO_INCREMENT PRIMARY KEY,\n",
    "        date DATE,\n",
    "        category VARCHAR(50),\n",
    "        payment_mode VARCHAR(20),\n",
    "        description TEXT,\n",
    "        amount_paid DECIMAL(10,2),\n",
    "        cashback DECIMAL(5,2)\n",
    "    )\n",
    "\"\"\")"
   ]
  },
  {
   "cell_type": "code",
   "execution_count": 12,
   "metadata": {},
   "outputs": [],
   "source": [
    "# Insert data into MySQL\n",
    "def insert_into_mysql(df):\n",
    "    for _, row in df.iterrows():\n",
    "        cursor.execute(\"\"\"\n",
    "            INSERT INTO expenses (date, category, payment_mode, description, amount_paid, cashback)\n",
    "            VALUES (%s, %s, %s, %s, %s, %s)\n",
    "        \"\"\", tuple(row))\n",
    "    conn.commit()\n",
    "    print(\"Data inserted into MySQL successfully.\")"
   ]
  },
  {
   "cell_type": "code",
   "execution_count": 13,
   "metadata": {},
   "outputs": [
    {
     "name": "stdout",
     "output_type": "stream",
     "text": [
      "Data inserted into MySQL successfully.\n"
     ]
    }
   ],
   "source": [
    "# Insert DataFrame into MySQL\n",
    "insert_into_mysql(df)"
   ]
  },
  {
   "cell_type": "code",
   "execution_count": 14,
   "metadata": {},
   "outputs": [
    {
     "name": "stdout",
     "output_type": "stream",
     "text": [
      "Database connection closed.\n"
     ]
    }
   ],
   "source": [
    "# Close connection\n",
    "cursor.close()\n",
    "conn.close()\n",
    "print(\"Database connection closed.\")\n"
   ]
  },
  {
   "cell_type": "code",
   "execution_count": null,
   "metadata": {},
   "outputs": [],
   "source": []
  }
 ],
 "metadata": {
  "kernelspec": {
   "display_name": "Python 3",
   "language": "python",
   "name": "python3"
  },
  "language_info": {
   "codemirror_mode": {
    "name": "ipython",
    "version": 3
   },
   "file_extension": ".py",
   "mimetype": "text/x-python",
   "name": "python",
   "nbconvert_exporter": "python",
   "pygments_lexer": "ipython3",
   "version": "3.13.1"
  }
 },
 "nbformat": 4,
 "nbformat_minor": 2
}
